{
 "cells": [
  {
   "cell_type": "code",
   "execution_count": 2,
   "metadata": {},
   "outputs": [
    {
     "name": "stdout",
     "output_type": "stream",
     "text": [
      "10000 10000\n",
      "-4217.8245\n",
      "[850, 753, 752, 732, 696, 649, 611, 580, 552, 520, 300]\n"
     ]
    }
   ],
   "source": [
    "import pandas as pd\n",
    "from math import log\n",
    "import numpy as np\n",
    "\n",
    "# Load the data from a CSV file into a DataFrame\n",
    "df = pd.read_csv('Task3n4_Loan_Data.csv')\n",
    "\n",
    "# Extract the 'default' and 'fico_score' columns as lists\n",
    "x = df['default'].to_list()  # 1 if defaulted, 0 otherwise\n",
    "y = df['fico_score'].to_list()  # FICO scores\n",
    "n = len(x)  # Number of records\n",
    "\n",
    "# Print lengths of the lists to ensure they are of the same length\n",
    "print(len(x), len(y))\n",
    "\n",
    "# Initialize lists to store cumulative counts of defaults and total records for each FICO score\n",
    "default = [0 for i in range(851)]  # 851 corresponds to the range of FICO scores 0-850\n",
    "total = [0 for i in range(851)]\n",
    "\n",
    "# Populate the 'default' and 'total' lists\n",
    "for i in range(n):\n",
    "    y[i] = int(y[i])  # Convert FICO score to integer\n",
    "    default[y[i]-300] += x[i]  # Update the count of defaults for the given FICO score\n",
    "    total[y[i]-300] += 1  # Update the count of total records for the given FICO score\n",
    "    \n",
    "# Compute cumulative sums for the 'default' and 'total' lists\n",
    "for i in range(1, 551):  # From FICO score 301 to 850\n",
    "    default[i] += default[i-1]  # Cumulative sum of defaults\n",
    "    total[i] += total[i-1]  # Cumulative sum of total records\n",
    "    \n",
    "# Function to calculate the log-likelihood for a given number of observations and defaults\n",
    "def log_likelihood(n, k):\n",
    "    p = k / n\n",
    "    if (p == 0 or p == 1):\n",
    "        return 0\n",
    "    return k * np.log(p) + (n - k) * np.log(1 - p)\n",
    "\n",
    "# Number of partitions to find\n",
    "r = 10\n",
    "# Initialize DP table with a very low initial value\n",
    "dp = [[[-10**18, 0] for i in range(551)] for j in range(r+1)]\n",
    "\n",
    "# Fill the DP table\n",
    "for i in range(r+1):  # For each number of partitions from 0 to r\n",
    "    for j in range(551):  # For each FICO score index\n",
    "        if i == 0:\n",
    "            dp[i][j][0] = 0  # Base case: no partitions, log-likelihood is 0\n",
    "        else:\n",
    "            for k in range(j):  # Previous FICO score index\n",
    "                if total[j] == total[k]:\n",
    "                    continue  # Skip if total counts are equal (prevent division by zero)\n",
    "                if i == 1:\n",
    "                    # If it's the first partition, calculate the log-likelihood directly\n",
    "                    dp[i][j][0] = log_likelihood(total[j], default[j])\n",
    "                else:\n",
    "                    # Update DP value considering the partition at index k\n",
    "                    potential_value = log_likelihood(total[j] - total[k], default[j] - default[k]) + dp[i-1][k][0]\n",
    "                    if dp[i][j][0] < potential_value:\n",
    "                        dp[i][j][0] = potential_value\n",
    "                        dp[i][j][1] = k  # Record the index of the previous partition\n",
    "                                                     \n",
    "# Print the best log-likelihood value found\n",
    "print(round(dp[r][550][0], 4))\n",
    "                                                     \n",
    "# Trace back to find the optimal partition points\n",
    "k = 550\n",
    "l = []\n",
    "while r >= 0:\n",
    "    l.append(k + 300)  # Store the FICO score value\n",
    "    k = dp[r][k][1]  # Move to the previous partition index\n",
    "    r -= 1\n",
    "\n",
    "# Print the list of partition points\n",
    "print(l)"
   ]
  },
  {
   "cell_type": "code",
   "execution_count": null,
   "metadata": {},
   "outputs": [],
   "source": []
  }
 ],
 "metadata": {
  "kernelspec": {
   "display_name": "Python 3",
   "language": "python",
   "name": "python3"
  },
  "language_info": {
   "codemirror_mode": {
    "name": "ipython",
    "version": 3
   },
   "file_extension": ".py",
   "mimetype": "text/x-python",
   "name": "python",
   "nbconvert_exporter": "python",
   "pygments_lexer": "ipython3",
   "version": "3.11.9"
  }
 },
 "nbformat": 4,
 "nbformat_minor": 2
}
