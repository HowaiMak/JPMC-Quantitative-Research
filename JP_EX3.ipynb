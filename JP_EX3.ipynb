{
 "cells": [
  {
   "cell_type": "code",
   "execution_count": 7,
   "metadata": {},
   "outputs": [],
   "source": [
    "from sklearn.linear_model import LogisticRegression as logistreg\n",
    "from sklearn import metrics\n",
    "import numpy as np\n",
    "import pandas as pd"
   ]
  },
  {
   "cell_type": "code",
   "execution_count": 8,
   "metadata": {},
   "outputs": [
    {
     "name": "stdout",
     "output_type": "stream",
     "text": [
      "[[ 8.18520373  0.54490854  0.01994244 -2.77630853 -0.02418391]] [-0.09162643]\n",
      "0.0037\n",
      "0.9925106069101026\n"
     ]
    }
   ],
   "source": [
    "import pandas as pd\n",
    "from sklearn.linear_model import LogisticRegression as logistreg\n",
    "from sklearn import metrics\n",
    "\n",
    "# Load the CSV file into a DataFrame\n",
    "df = pd.read_csv('Task3n4_Loan_Data.csv')\n",
    "\n",
    "# Calculate the payment_to_income ratio\n",
    "df['payment_to_income'] = df['loan_amt_outstanding'] / df['income']\n",
    "\n",
    "# Calculate the debt_to_income ratio\n",
    "df['debt_to_income'] = df['total_debt_outstanding'] / df['income']\n",
    "\n",
    "# Define variables considered for predicting loan default, to be used in the logistic regression model\n",
    "items = ['credit_lines_outstanding', 'debt_to_income', 'payment_to_income', 'years_employed', 'fico_score']\n",
    "\n",
    "# Fit the LR model\n",
    "clf = logistreg(random_state=0, solver='liblinear', tol=1e-5, max_iter=10000).fit(df[items], df['default'])\n",
    "\n",
    "# Print the coefficients and intercept of the logistic regression model, describe the influence of each feature on the prediction\n",
    "print(clf.coef_, clf.intercept_)\n",
    "\n",
    "# Predict default outcomes using the logistic regression model\n",
    "y_pred = clf.predict(df[items])\n",
    "\n",
    "# Calculate and print the False Positive Rate (FPR) and True Positive Rate (TPR)\n",
    "fpr, tpr, thresholds = metrics.roc_curve(df['default'], y_pred)\n",
    "\n",
    "# Print error rate\n",
    "print((1.0*(abs(df['default']-y_pred)).sum()) / len(df))\n",
    "\n",
    "# Calculate and print the Area Under the Curve (AUC) of the ROC curve\n",
    "# AUC provides a single value that summarizes the performance of the model\n",
    "print(metrics.auc(fpr, tpr))"
   ]
  },
  {
   "cell_type": "code",
   "execution_count": null,
   "metadata": {},
   "outputs": [],
   "source": []
  }
 ],
 "metadata": {
  "kernelspec": {
   "display_name": "Python 3",
   "language": "python",
   "name": "python3"
  },
  "language_info": {
   "codemirror_mode": {
    "name": "ipython",
    "version": 3
   },
   "file_extension": ".py",
   "mimetype": "text/x-python",
   "name": "python",
   "nbconvert_exporter": "python",
   "pygments_lexer": "ipython3",
   "version": "3.11.9"
  }
 },
 "nbformat": 4,
 "nbformat_minor": 2
}
