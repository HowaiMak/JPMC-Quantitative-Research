{
 "cells": [
  {
   "cell_type": "code",
   "execution_count": 1,
   "metadata": {},
   "outputs": [],
   "source": [
    "import pandas as pd\n",
    "import numpy as np\n",
    "from sklearn.model_selection import train_test_split\n",
    "from sklearn.preprocessing import StandardScaler\n",
    "from sklearn.linear_model import LogisticRegression\n",
    "from sklearn.tree import DecisionTreeClassifier\n",
    "from sklearn.ensemble import RandomForestClassifier\n",
    "from sklearn.metrics import roc_auc_score, roc_curve\n",
    "import matplotlib.pyplot as plt"
   ]
  },
  {
   "cell_type": "markdown",
   "metadata": {},
   "source": [
    "# Credit Risk Analyst: Calculate Loan Borrowers Probability of Default (PD)\n",
    "### Task 3:\n",
    "The risk manager has collected data on the loan borrowers. The data is in tabular format, with each row providing details of the borrower, including their income, total loans outstanding, and a few other metrics. There is also a column indicating if the borrower has previously defaulted on a loan. You must use this data to build a model that, given details for any loan described above, will predict the probability that the borrower will default (also known as PD: the probability of default).\n",
    "\n",
    "Use the provided data to train a function that will estimate the probability of default for a borrower. Assuming a recovery rate of 10%, this can be used to give the expected loss on a loan.\n",
    "\n",
    "You should produce a function that can take in the properties of a loan and output the expected loss. You can explore any technique ranging from a simple regression or a decision tree to something more advanced. You can also use multiple methods and provide a comparative analysis. Submit your code below."
   ]
  },
  {
   "cell_type": "code",
   "execution_count": 2,
   "metadata": {},
   "outputs": [
    {
     "name": "stdout",
     "output_type": "stream",
     "text": [
      "Logistic Regression AUC-ROC: 1.0000\n",
      "Decision Tree AUC-ROC: 0.9852\n",
      "Random Forest AUC-ROC: 0.9999\n"
     ]
    }
   ],
   "source": [
    "# Load the dataset\n",
    "dataframe = pd.read_csv('Task3n4_Loan_Data.csv')\n",
    "\n",
    "# Create new features: Payment to Income Ratio and Debt to Income Ratio\n",
    "dataframe['payment_to_income'] = dataframe['loan_amt_outstanding'] / dataframe['income']\n",
    "dataframe['debt_to_income'] = dataframe['total_debt_outstanding'] / dataframe['income']\n",
    "\n",
    "# Features for supervised model training\n",
    "features = ['credit_lines_outstanding', 'debt_to_income', 'payment_to_income', 'years_employed', 'fico_score']\n",
    "# Take default (1/0) as target\n",
    "target = 'default'\n",
    "\n",
    "# Train-test split\n",
    "xTrain, xTest, yTrain, yTest = train_test_split(dataframe[features], dataframe[target], test_size=0.2, random_state=42)\n",
    "\n",
    "# Standardize the features (important for many machine learning algorithms)\n",
    "scaler = StandardScaler()\n",
    "xTrain_scaled = scaler.fit_transform(xTrain)\n",
    "xTest_scaled = scaler.transform(xTest)\n",
    "\n",
    "# Models to be compared\n",
    "models = {\n",
    "    'Logistic Regression': LogisticRegression(random_state=42, solver='liblinear', max_iter=10000),\n",
    "    'Decision Tree': DecisionTreeClassifier(random_state=42),\n",
    "    'Random Forest': RandomForestClassifier(random_state=42)\n",
    "}\n",
    "\n",
    "# Train each model and evaluate performance\n",
    "for name, model in models.items():\n",
    "    # Train the model\n",
    "    model.fit(xTrain_scaled, yTrain)\n",
    "    \n",
    "    # Predict the probability of default being 1\n",
    "    y_pred_proba = model.predict_proba(xTest_scaled)[:,1]\n",
    "    \n",
    "    # Calculate AUC-ROC score\n",
    "    auc = roc_auc_score(yTest, y_pred_proba)\n",
    "\n",
    "    # Print performance\n",
    "    print(f\"{name} AUC-ROC: {auc:.4f}\")"
   ]
  },
  {
   "cell_type": "code",
   "execution_count": 3,
   "metadata": {},
   "outputs": [],
   "source": [
    "# Final Function: Expected Loss Calculation based on PD\n",
    "def calculate_expected_loss(loan_data, model, scaler, recovery_rate=0.10):\n",
    "    # Prepare input data\n",
    "    loan_df = pd.DataFrame([loan_data])\n",
    "    \n",
    "    # Select the same features as used in training\n",
    "    loan_features = loan_df[features]\n",
    "    \n",
    "    # Standardize the features\n",
    "    loan_features_scaled = scaler.transform(loan_features)\n",
    "    \n",
    "    # Predict the probability of default being 1\n",
    "    pd_pred = model.predict_proba(loan_features_scaled)[:,1][0]\n",
    "    \n",
    "    # Calculate the expected loss\n",
    "    loan_amount = loan_df['loan_amt_outstanding'].values[0]\n",
    "    expected_loss = pd_pred * (1 - recovery_rate) * loan_amount\n",
    "    \n",
    "    return expected_loss, pd_pred"
   ]
  },
  {
   "cell_type": "code",
   "execution_count": 4,
   "metadata": {},
   "outputs": [
    {
     "name": "stdout",
     "output_type": "stream",
     "text": [
      "Predicted PD: 0.8048\n",
      "Expected Loss: $10865.44\n"
     ]
    }
   ],
   "source": [
    "# Example loan data\n",
    "credit_lines_outstanding = 3\n",
    "payment_to_income = 0.5\n",
    "years_employed = 30\n",
    "fico_score = 700\n",
    "income = 20000\n",
    "loan_amt_outstanding = 15000\n",
    "total_debt_outstanding = 20000\n",
    "\n",
    "debt_to_income = total_debt_outstanding/income\n",
    "payment_to_income = loan_amt_outstanding/income\n",
    "\n",
    "test_loan = {\n",
    "    'credit_lines_outstanding': credit_lines_outstanding,\n",
    "    'debt_to_income': debt_to_income,\n",
    "    'payment_to_income': payment_to_income,\n",
    "    'years_employed': years_employed,\n",
    "    'fico_score': fico_score,\n",
    "    'income': income,\n",
    "    'loan_amt_outstanding': loan_amt_outstanding,\n",
    "    'total_debt_outstanding': total_debt_outstanding\n",
    "}\n",
    "\n",
    "# Use the best model (adjust based on performance)\n",
    "best_model = models['Logistic Regression']\n",
    "expected_loss, predicted_pd = calculate_expected_loss(test_loan, best_model, scaler)\n",
    "\n",
    "print(f\"Predicted PD: {predicted_pd:.4f}\")\n",
    "print(f\"Expected Loss: ${expected_loss:.2f}\")"
   ]
  },
  {
   "cell_type": "code",
   "execution_count": null,
   "metadata": {},
   "outputs": [],
   "source": []
  }
 ],
 "metadata": {
  "kernelspec": {
   "display_name": "Python 3",
   "language": "python",
   "name": "python3"
  },
  "language_info": {
   "codemirror_mode": {
    "name": "ipython",
    "version": 3
   },
   "file_extension": ".py",
   "mimetype": "text/x-python",
   "name": "python",
   "nbconvert_exporter": "python",
   "pygments_lexer": "ipython3",
   "version": "3.11.9"
  }
 },
 "nbformat": 4,
 "nbformat_minor": 2
}
